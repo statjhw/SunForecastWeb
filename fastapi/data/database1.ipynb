{
 "cells": [
  {
   "cell_type": "code",
   "execution_count": 9,
   "metadata": {},
   "outputs": [],
   "source": [
    "import pandas as pd\n",
    "import numpy as np\n",
    "import sys\n",
    "import matplotlib.pyplot as plt\n",
    "from connect_db_6 import insert_query_create_table, df_to_table, row_count_table, delete_table"
   ]
  },
  {
   "cell_type": "code",
   "execution_count": 2,
   "metadata": {},
   "outputs": [],
   "source": [
    "regions_dict = dict()\n",
    "\n",
    "regions = [\n",
    "    '강원도',\n",
    "    '경기도',\n",
    "    '경상남도',\n",
    "    '경상북도',\n",
    "    '광주시',\n",
    "    '대구시',\n",
    "    '대전시',\n",
    "    '부산시',\n",
    "    '서울시',\n",
    "    '세종시',\n",
    "    '울산시',\n",
    "    '인천시',\n",
    "    '전라남도',\n",
    "    '전라북도',\n",
    "    '제주도',\n",
    "    '충청남도',\n",
    "    '충청북도'\n",
    "    ]"
   ]
  },
  {
   "cell_type": "code",
   "execution_count": 3,
   "metadata": {},
   "outputs": [
    {
     "name": "stdout",
     "output_type": "stream",
     "text": [
      "53999 3\n",
      "53999 3\n",
      "53999 3\n",
      "53999 3\n",
      "53999 3\n",
      "53999 3\n",
      "53999 3\n",
      "53999 3\n",
      "53999 3\n",
      "53999 3\n",
      "53999 3\n",
      "53999 3\n",
      "53999 3\n",
      "53999 3\n",
      "53999 3\n",
      "53999 3\n",
      "53999 3\n"
     ]
    }
   ],
   "source": [
    "#필요한 데이터만 축적\n",
    "for region in regions :\n",
    "    regions_dict[region] = pd.read_csv(f\"data1/predicted_concat_data_{region}.csv\")\n",
    "    regions_dict[region] = regions_dict[region][['시간', 'Solar_Power(MWh)', 'predict']]\n",
    "    print(regions_dict[region].shape[0], regions_dict[region].shape[1])"
   ]
  },
  {
   "cell_type": "code",
   "execution_count": 13,
   "metadata": {},
   "outputs": [
    {
     "data": {
      "text/plain": [
       "[<matplotlib.lines.Line2D at 0x17db35e50>]"
      ]
     },
     "execution_count": 13,
     "metadata": {},
     "output_type": "execute_result"
    },
    {
     "data": {
      "image/png": "[encoded data removed]",
      "text/plain": [
       "<Figure size 640x480 with 1 Axes>"
      ]
     },
     "metadata": {},
     "output_type": "display_data"
    }
   ],
   "source": [
    "plt.plot(regions_dict['강원도']['production'])\n",
    "plt.plot(regions_dict['강원도']['predicted_production'])"
   ]
  },
  {
   "cell_type": "code",
   "execution_count": 4,
   "metadata": {},
   "outputs": [],
   "source": [
    "for region in regions :\n",
    "    regions_dict[region].rename(columns={\n",
    "        '시간' : 'timestamp',\n",
    "        'Solar_Power(MWh)': 'production',\n",
    "        'predict': 'predicted_production'\n",
    "    }, inplace=True)"
   ]
  },
  {
   "cell_type": "markdown",
   "metadata": {},
   "source": [
    "# 한국의 지역 번호\n",
    "\n",
    "1. 강원도 : 1\n",
    "2. 경기도 : 2\n",
    "3. 경상남도 : 3\n",
    "4. 경상북도 : 4\n",
    "5. 광주시 : 5\n",
    "6. 대구시 : 6\n",
    "7. 대전시 : 7\n",
    "8. 부산시 : 8\n",
    "9. 서울시 : 9\n",
    "10. 세종시 : 10\n",
    "11. 울산시 : 11\n",
    "12. 인천시 : 12\n",
    "13. 전라남도 : 13\n",
    "14. 전라북도 : 14\n",
    "15. 제주도 : 15\n",
    "16. 충청남도 : 16\n",
    "17. 충청북도 : 17"
   ]
  },
  {
   "cell_type": "code",
   "execution_count": 7,
   "metadata": {},
   "outputs": [
    {
     "name": "stdout",
     "output_type": "stream",
     "text": [
      "Connected to RDS\n",
      "테이블이 성공적으로 생성되었습니다.\n",
      "Connected to RDS\n",
      "테이블이 성공적으로 생성되었습니다.\n",
      "Connected to RDS\n",
      "테이블이 성공적으로 생성되었습니다.\n",
      "Connected to RDS\n",
      "테이블이 성공적으로 생성되었습니다.\n",
      "Connected to RDS\n",
      "테이블이 성공적으로 생성되었습니다.\n",
      "Connected to RDS\n",
      "테이블이 성공적으로 생성되었습니다.\n",
      "Connected to RDS\n",
      "테이블이 성공적으로 생성되었습니다.\n",
      "Connected to RDS\n",
      "테이블이 성공적으로 생성되었습니다.\n",
      "Connected to RDS\n",
      "테이블이 성공적으로 생성되었습니다.\n",
      "Connected to RDS\n",
      "테이블이 성공적으로 생성되었습니다.\n",
      "Connected to RDS\n",
      "테이블이 성공적으로 생성되었습니다.\n",
      "Connected to RDS\n",
      "테이블이 성공적으로 생성되었습니다.\n",
      "Connected to RDS\n",
      "테이블이 성공적으로 생성되었습니다.\n",
      "Connected to RDS\n",
      "테이블이 성공적으로 생성되었습니다.\n",
      "Connected to RDS\n",
      "테이블이 성공적으로 생성되었습니다.\n",
      "Connected to RDS\n",
      "테이블이 성공적으로 생성되었습니다.\n",
      "Connected to RDS\n",
      "테이블이 성공적으로 생성되었습니다.\n"
     ]
    }
   ],
   "source": [
    "#테이블 만들기\n",
    "for i, region in enumerate(regions) :\n",
    "    insert_query_create_table(str(i+1))"
   ]
  },
  {
   "cell_type": "code",
   "execution_count": 14,
   "metadata": {},
   "outputs": [
    {
     "name": "stdout",
     "output_type": "stream",
     "text": [
      "region1의 데이터가 성공적으로 삽입되었습니다.\n",
      "데이터베이스 연결이 종료되었습니다.\n",
      "region2의 데이터가 성공적으로 삽입되었습니다.\n",
      "데이터베이스 연결이 종료되었습니다.\n",
      "region3의 데이터가 성공적으로 삽입되었습니다.\n",
      "데이터베이스 연결이 종료되었습니다.\n",
      "region4의 데이터가 성공적으로 삽입되었습니다.\n",
      "데이터베이스 연결이 종료되었습니다.\n",
      "region5의 데이터가 성공적으로 삽입되었습니다.\n",
      "데이터베이스 연결이 종료되었습니다.\n",
      "region6의 데이터가 성공적으로 삽입되었습니다.\n",
      "데이터베이스 연결이 종료되었습니다.\n",
      "region7의 데이터가 성공적으로 삽입되었습니다.\n",
      "데이터베이스 연결이 종료되었습니다.\n",
      "region8의 데이터가 성공적으로 삽입되었습니다.\n",
      "데이터베이스 연결이 종료되었습니다.\n",
      "region9의 데이터가 성공적으로 삽입되었습니다.\n",
      "데이터베이스 연결이 종료되었습니다.\n",
      "region10의 데이터가 성공적으로 삽입되었습니다.\n",
      "데이터베이스 연결이 종료되었습니다.\n",
      "region11의 데이터가 성공적으로 삽입되었습니다.\n",
      "데이터베이스 연결이 종료되었습니다.\n",
      "region12의 데이터가 성공적으로 삽입되었습니다.\n",
      "데이터베이스 연결이 종료되었습니다.\n",
      "region13의 데이터가 성공적으로 삽입되었습니다.\n",
      "데이터베이스 연결이 종료되었습니다.\n",
      "region14의 데이터가 성공적으로 삽입되었습니다.\n",
      "데이터베이스 연결이 종료되었습니다.\n",
      "region15의 데이터가 성공적으로 삽입되었습니다.\n",
      "데이터베이스 연결이 종료되었습니다.\n",
      "region16의 데이터가 성공적으로 삽입되었습니다.\n",
      "데이터베이스 연결이 종료되었습니다.\n",
      "region17의 데이터가 성공적으로 삽입되었습니다.\n",
      "데이터베이스 연결이 종료되었습니다.\n"
     ]
    }
   ],
   "source": [
    "#데이터 삽입\n",
    "for i, region in enumerate(regions) :\n",
    "    df_to_table(i+1, regions_dict[region])"
   ]
  },
  {
   "cell_type": "code",
   "execution_count": 15,
   "metadata": {},
   "outputs": [
    {
     "name": "stdout",
     "output_type": "stream",
     "text": [
      "데이터베이스에 성공적으로 연결되었습니다.\n",
      "테이블의 행 개수: 53999\n",
      "데이터베이스에 성공적으로 연결되었습니다.\n",
      "테이블의 행 개수: 53999\n",
      "데이터베이스에 성공적으로 연결되었습니다.\n",
      "테이블의 행 개수: 53999\n",
      "데이터베이스에 성공적으로 연결되었습니다.\n",
      "테이블의 행 개수: 53999\n",
      "데이터베이스에 성공적으로 연결되었습니다.\n",
      "테이블의 행 개수: 53999\n",
      "데이터베이스에 성공적으로 연결되었습니다.\n",
      "테이블의 행 개수: 53999\n",
      "데이터베이스에 성공적으로 연결되었습니다.\n",
      "테이블의 행 개수: 53999\n",
      "데이터베이스에 성공적으로 연결되었습니다.\n",
      "테이블의 행 개수: 53999\n",
      "데이터베이스에 성공적으로 연결되었습니다.\n",
      "테이블의 행 개수: 53999\n",
      "데이터베이스에 성공적으로 연결되었습니다.\n",
      "테이블의 행 개수: 53999\n",
      "데이터베이스에 성공적으로 연결되었습니다.\n",
      "테이블의 행 개수: 53999\n",
      "데이터베이스에 성공적으로 연결되었습니다.\n",
      "테이블의 행 개수: 53999\n",
      "데이터베이스에 성공적으로 연결되었습니다.\n",
      "테이블의 행 개수: 53999\n",
      "데이터베이스에 성공적으로 연결되었습니다.\n",
      "테이블의 행 개수: 53999\n",
      "데이터베이스에 성공적으로 연결되었습니다.\n",
      "테이블의 행 개수: 53999\n",
      "데이터베이스에 성공적으로 연결되었습니다.\n",
      "테이블의 행 개수: 53999\n",
      "데이터베이스에 성공적으로 연결되었습니다.\n",
      "테이블의 행 개수: 53999\n"
     ]
    }
   ],
   "source": [
    "for i, region in enumerate(regions) :\n",
    "    row_count_table(i+1)"
   ]
  }
 ],
 "metadata": {
  "kernelspec": {
   "display_name": "streamlit",
   "language": "python",
   "name": "python3"
  },
  "language_info": {
   "codemirror_mode": {
    "name": "ipython",
    "version": 3
   },
   "file_extension": ".py",
   "mimetype": "text/x-python",
   "name": "python",
   "nbconvert_exporter": "python",
   "pygments_lexer": "ipython3",
   "version": "3.9.19"
  }
 },
 "nbformat": 4,
 "nbformat_minor": 2
}
